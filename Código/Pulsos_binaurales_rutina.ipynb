{
 "cells": [
  {
   "cell_type": "markdown",
   "metadata": {},
   "source": [
    "## Importación de librerías"
   ]
  },
  {
   "cell_type": "code",
   "execution_count": 2,
   "metadata": {},
   "outputs": [],
   "source": [
    "from AccelBrainBeat.brainbeat.binaural_beat import BinauralBeat\n",
    "from pydub import AudioSegment\n",
    "import tempfile\n",
    "import threading\n",
    "import os\n",
    "import sounddevice as sd\n",
    "import soundfile as sf\n",
    "\n",
    "ruta=r'C:\\ffmpeg\\bin'\n",
    "\n",
    "AudioSegment.converter = ruta+\"\\ffmpeg.exe\"\n",
    "AudioSegment.ffmpeg = ruta+\"\\ffmpeg.exe\"\n",
    "AudioSegment.ffprobe =ruta+\"\\ffprobe.exe\" \n",
    "output_dir  = r'../Documents/Pulsos_Binaurales'"
   ]
  },
  {
   "cell_type": "markdown",
   "metadata": {},
   "source": [
    "## Importación de pista y generación del pulso"
   ]
  },
  {
   "cell_type": "code",
   "execution_count": 3,
   "metadata": {},
   "outputs": [],
   "source": [
    "pista = AudioSegment.from_file(\"pista.wav\")\n",
    "brain_beat = BinauralBeat()"
   ]
  },
  {
   "cell_type": "markdown",
   "metadata": {},
   "source": [
    "## Función generadora"
   ]
  },
  {
   "cell_type": "code",
   "execution_count": 14,
   "metadata": {},
   "outputs": [],
   "source": [
    "frequencys_grab = [\n",
    "    (250, 260), #Awake\n",
    "    (250, 258), #N1\n",
    "    (250, 256), #N2\n",
    "    (250, 253), #N3\n",
    "    (250, 252), #N4\n",
    "    (250, 253), #N3\n",
    "    (250, 256), #N2\n",
    "    (250, 265)  #REM\n",
    "]\n",
    "\n",
    "stage_durations_1 = [16, 10,    10, 15, 20, 2, 2,    15]  # Duraciones en segundos para cada etapa\n",
    "stage_durations_2 = [0,   8, 26.25, 10, 25, 2, 2, 21.75]  # Duraciones en segundos para cada etapa\n",
    "stage_durations_3 = [0,   7,    30,  8, 27, 2, 2,    24]  # Duraciones en segundos para cada etapa\n",
    "stage_durations_4 = [0,   6, 32.75,  5, 32, 2, 1, 26.25]  # Duraciones en segundos para cada etapa\n",
    "stage_durations_5 = [0,   5,  34.5,  5, 36, 1, 1,  27.5]  # Duraciones en segundos para cada etapa\n",
    "\n",
    "stage_durations_1 = [60 * elemento for elemento in stage_durations_1]\n",
    "stage_durations_2 = [60 * elemento for elemento in stage_durations_2]\n",
    "stage_durations_3 = [60 * elemento for elemento in stage_durations_3]\n",
    "stage_durations_4 = [60 * elemento for elemento in stage_durations_4]\n",
    "stage_durations_5 = [60 * elemento for elemento in stage_durations_5]\n",
    "\n",
    "stage_durations = stage_durations_4\n",
    "#print(stage_durations)"
   ]
  },
  {
   "cell_type": "code",
   "execution_count": 15,
   "metadata": {},
   "outputs": [],
   "source": [
    "def binaural_player_routine(frequencies_grab, stage_durations, volumen=1, in_=1000, out=2000):\n",
    "    audio_segments = []\n",
    "    for stage, (freq_izq, freq_der) in enumerate(frequencies_grab):\n",
    "        brain_beat.save_beat(output_file_name=\"beat_grab.wav\", frequencys=(freq_izq, freq_der), play_time=stage_durations[stage], volume=volumen)\n",
    "        beat = AudioSegment.from_wav(\"beat_grab.wav\")\n",
    "        audio_segments.append(beat)\n",
    "\n",
    "    combined_audio = sum(audio_segments)\n",
    "    mixed = combined_audio.fade_in(in_).fade_out(out) - 40\n",
    "    mixed.export(out_f=\"sleep_cycle_4.wav\", format=\"wav\")"
   ]
  },
  {
   "cell_type": "code",
   "execution_count": 16,
   "metadata": {},
   "outputs": [],
   "source": [
    "# Llamar a la función para exportar el audio completo del ciclo del sueño\n",
    "binaural_player_routine(frequencys_grab, stage_durations)"
   ]
  },
  {
   "cell_type": "markdown",
   "metadata": {},
   "source": [
    "## Main"
   ]
  },
  {
   "cell_type": "code",
   "execution_count": 7,
   "metadata": {},
   "outputs": [
    {
     "name": "stdout",
     "output_type": "stream",
     "text": [
      "Etapa de sueño: 1\n",
      "Frecuencias reproducidas: 250-280\n"
     ]
    }
   ],
   "source": [
    "try:\n",
    "    time = 5 \n",
    "    n = 0\n",
    "    stages = [1, 2, 3, 4, 5]\n",
    "    times = [300, 1500, 1500, 1500, 1500]\n",
    "\n",
    "    while n < time:\n",
    "        i = 0\n",
    "\n",
    "        for stage in stages:\n",
    "            print('Etapa de sueño: '+str(stage))\n",
    "            t = threading.Thread(target=binaural_player_routine, args=(frequencies, stage, times[i]))\n",
    "            t.start()\n",
    "            t.join()\n",
    "            i += 1\n",
    "        \n",
    "        n += 1\n",
    "\n",
    "except KeyboardInterrupt:\n",
    "    print(\"Interrupción manual activada\")\n",
    "    pass"
   ]
  }
 ],
 "metadata": {
  "kernelspec": {
   "display_name": "Python 3",
   "language": "python",
   "name": "python3"
  },
  "language_info": {
   "codemirror_mode": {
    "name": "ipython",
    "version": 3
   },
   "file_extension": ".py",
   "mimetype": "text/x-python",
   "name": "python",
   "nbconvert_exporter": "python",
   "pygments_lexer": "ipython3",
   "version": "3.11.3"
  },
  "orig_nbformat": 4
 },
 "nbformat": 4,
 "nbformat_minor": 2
}
